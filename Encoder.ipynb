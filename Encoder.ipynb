{
  "nbformat": 4,
  "nbformat_minor": 0,
  "metadata": {
    "colab": {
      "provenance": [],
      "authorship_tag": "ABX9TyMaoOoFfS32P/gBW4m+hMp+",
      "include_colab_link": true
    },
    "kernelspec": {
      "name": "python3",
      "display_name": "Python 3"
    },
    "language_info": {
      "name": "python"
    }
  },
  "cells": [
    {
      "cell_type": "markdown",
      "metadata": {
        "id": "view-in-github",
        "colab_type": "text"
      },
      "source": [
        "<a href=\"https://colab.research.google.com/github/Cybrix-Mercurio/Steganography-Using--GANs/blob/main/Encoder.ipynb\" target=\"_parent\"><img src=\"https://colab.research.google.com/assets/colab-badge.svg\" alt=\"Open In Colab\"/></a>"
      ]
    },
    {
      "cell_type": "code",
      "execution_count": 1,
      "metadata": {
        "id": "NREPLV9z9R6z"
      },
      "outputs": [],
      "source": [
        "import torch\n",
        "from torch import nn\n",
        "\n",
        "class BasicEncoder(nn.Module):\n",
        "    def __init__(self, data_depth, hidden_size):\n",
        "        super().__init__()\n",
        "        self.data_depth = data_depth\n",
        "        self.hidden_size = hidden_size\n",
        "        \n",
        "        # Define convolutional layers\n",
        "        self.conv1 = nn.Conv2d(3, hidden_size, kernel_size=3, padding=1)\n",
        "        self.conv2 = nn.Conv2d(hidden_size + data_depth, hidden_size, kernel_size=3, padding=1)\n",
        "        self.conv3 = nn.Conv2d(hidden_size, hidden_size, kernel_size=3, padding=1)\n",
        "        self.conv4 = nn.Conv2d(hidden_size, 3, kernel_size=3, padding=1)\n",
        "\n",
        "        # Define activation and normalization layers\n",
        "        self.leaky_relu = nn.LeakyReLU(inplace=True)\n",
        "        self.batch_norm = nn.BatchNorm2d(hidden_size)\n",
        "\n",
        "    def forward(self, image, data):\n",
        "        # Pass input through convolutional layers\n",
        "        x = self.leaky_relu(self.conv1(image))\n",
        "        x = self.batch_norm(x)\n",
        "        x_1 = torch.cat([x, data], dim=1)\n",
        "        x_1 = self.leaky_relu(self.conv2(x_1))\n",
        "        x_1 = self.batch_norm(x_1)\n",
        "        x_2 = self.leaky_relu(self.conv3(x_1))\n",
        "        x_2 = self.batch_norm(x_2)\n",
        "        x_3 = self.conv4(x_2)\n",
        "\n",
        "        return x_3"
      ]
    },
    {
      "cell_type": "code",
      "source": [],
      "metadata": {
        "id": "7PgmGe9O-30q"
      },
      "execution_count": null,
      "outputs": []
    }
  ]
}