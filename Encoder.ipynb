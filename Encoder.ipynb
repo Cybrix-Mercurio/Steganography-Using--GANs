{
  "nbformat": 4,
  "nbformat_minor": 0,
  "metadata": {
    "colab": {
      "provenance": [],
      "authorship_tag": "ABX9TyNmMkL+RayeKmIDV/eGkWpz",
      "include_colab_link": true
    },
    "kernelspec": {
      "name": "python3",
      "display_name": "Python 3"
    },
    "language_info": {
      "name": "python"
    }
  },
  "cells": [
    {
      "cell_type": "markdown",
      "metadata": {
        "id": "view-in-github",
        "colab_type": "text"
      },
      "source": [
        "<a href=\"https://colab.research.google.com/github/Cybrix-Mercurio/Steganography-Using--GANs/blob/main/Encoder.ipynb\" target=\"_parent\"><img src=\"https://colab.research.google.com/assets/colab-badge.svg\" alt=\"Open In Colab\"/></a>"
      ]
    },
    {
      "cell_type": "code",
      "execution_count": 2,
      "metadata": {
        "id": "NREPLV9z9R6z"
      },
      "outputs": [],
      "source": [
        "import torch\n",
        "from torch import nn\n",
        "\n",
        "class BasicEncoder(nn.Module):\n",
        "    def __init__(self, data_depth, hidden_size):\n",
        "        super().__init__()\n",
        "        self.conv1 = nn.Sequential(\n",
        "            nn.Conv2d(3, hidden_size, kernel_size=3, padding=1),\n",
        "            nn.LeakyReLU(inplace=True),\n",
        "            nn.BatchNorm2d(hidden_size),\n",
        "        )\n",
        "        self.conv2 = nn.Sequential(\n",
        "            nn.Conv2d(hidden_size + data_depth, hidden_size, kernel_size=3, padding=1),\n",
        "            nn.LeakyReLU(inplace=True),\n",
        "            nn.BatchNorm2d(hidden_size),\n",
        "        )\n",
        "        self.conv3 = nn.Sequential(\n",
        "            nn.Conv2d(hidden_size, hidden_size, kernel_size=3, padding=1),\n",
        "            nn.LeakyReLU(inplace=True),\n",
        "            nn.BatchNorm2d(hidden_size),\n",
        "        )\n",
        "        self.conv4 = nn.Conv2d(hidden_size, 3, kernel_size=3, padding=1)\n",
        "\n",
        "    def forward(self, image, data):\n",
        "        x = self.conv1(image)\n",
        "        x_1 = self.conv2(torch.cat([x, data], dim=1))\n",
        "        x_2 = self.conv3(x_1)\n",
        "        x_3 = self.conv4(x_2)\n",
        "        return x_3\n"
      ]
    },
    {
      "cell_type": "code",
      "source": [],
      "metadata": {
        "id": "359xnHVnAtWa"
      },
      "execution_count": null,
      "outputs": []
    }
  ]
}